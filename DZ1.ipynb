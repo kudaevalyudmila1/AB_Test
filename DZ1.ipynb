{
 "cells": [
  {
   "cell_type": "code",
   "execution_count": null,
   "metadata": {},
   "outputs": [],
   "source": [
    "Задание 1 . Выберите любой продукт.\n",
    "Например ваш продукт\n",
    "ozon.ru\n",
    "citilink.ru\n",
    "telegram\n",
    "\n",
    "Какие бы ключевые метрики вы выделили? Опишите почему вы выбрали именно их и можно ли их измерить"
   ]
  },
  {
   "cell_type": "markdown",
   "metadata": {},
   "source": [
    "Сайт Додо Пицца  https://dodopizza.ru/"
   ]
  },
  {
   "cell_type": "markdown",
   "metadata": {},
   "source": [
    "1. Процент отказов\n",
    "2. Источники трафика\n",
    "3. Глубина просмотра страниц\n",
    "4. Конверсия\n",
    "5. Количество старых и новых посетителей\n",
    "6. Процент вторичной покупки\n",
    "7. Стоимость чека\n",
    "8. Время на сайте"
   ]
  },
  {
   "cell_type": "markdown",
   "metadata": {},
   "source": [
    "Задание 2. Сформулируйте 5-10 гипотез для выбранного продукта."
   ]
  }
 ],
 "metadata": {
  "language_info": {
   "name": "python"
  }
 },
 "nbformat": 4,
 "nbformat_minor": 2
}
