{
 "cells": [
  {
   "cell_type": "code",
   "execution_count": null,
   "metadata": {},
   "outputs": [],
   "source": [
    "Задание 1 . Выберите любой продукт.\n",
    "Например ваш продукт\n",
    "ozon.ru\n",
    "citilink.ru\n",
    "telegram\n",
    "\n",
    "Какие бы ключевые метрики вы выделили? Опишите почему вы выбрали именно их и можно ли их измерить"
   ]
  }
 ],
 "metadata": {
  "language_info": {
   "name": "python"
  }
 },
 "nbformat": 4,
 "nbformat_minor": 2
}
